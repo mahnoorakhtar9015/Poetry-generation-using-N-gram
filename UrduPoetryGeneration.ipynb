{
  "cells": [
    {
      "cell_type": "markdown",
      "metadata": {
        "colab_type": "text",
        "id": "view-in-github"
      },
      "source": [
        "<a href=\"https://colab.research.google.com/github/Bushramjad/Poetry-Generation-in-Urdu/blob/main/i21_2083.ipynb\" target=\"_parent\"><img src=\"https://colab.research.google.com/assets/colab-badge.svg\" alt=\"Open In Colab\"/></a>"
      ]
    },
    {
      "cell_type": "code",
      "execution_count": 1,
      "metadata": {
        "id": "QU26z03fuAPb"
      },
      "outputs": [],
      "source": [
        "import spacy\n",
        "import pandas as pd\n",
        "import codecs, sys\n",
        "import random\n",
        "unlp = spacy.blank('ur')"
      ]
    },
    {
      "cell_type": "code",
      "execution_count": 2,
      "metadata": {},
      "outputs": [],
      "source": [
        "import os\n",
        "\n",
        "def get_poet_names_from_text_file_names():\n",
        "    current_directory = os.getcwd()\n",
        "    text_files = [file for file in os.listdir(current_directory) if file.endswith(\".txt\")]\n",
        "\n",
        "    poet_names = [file.replace(\".txt\", \"\") for file in text_files]\n",
        "\n",
        "    return poet_names\n"
      ]
    },
    {
      "cell_type": "code",
      "execution_count": 3,
      "metadata": {},
      "outputs": [],
      "source": [
        "def ghazal_gen_using_bigrams(poet_name):\n",
        "    UnigramModel = pd.read_csv(f'{poet_name}UnigramFreqDist.csv')\n",
        "    BigramModel = pd.read_csv (f'{poet_name}BigramFreqDist.csv')\n",
        "    unigramList = UnigramModel['0'].tolist()\n",
        "    for stanza in range(4):\n",
        "    \n",
        "        for verse in range(2):\n",
        "            singleVerse = []\n",
        "            singleVerse.append('،')\n",
        "            startingWord = random.choice(unigramList)\n",
        "\n",
        "            for words in range(random.randint(6,8)):\n",
        "                singleVerse.append(startingWord)\n",
        "                singleVerse.append(' ')       \n",
        "                next_word_list = BigramModel.loc[BigramModel['0'].str.startswith(startingWord)]\n",
        "                next_word = pd.DataFrame(next_word_list['0'].str.split(n=2).str[1])\n",
        "                startingWord = next_word['0'].iloc[0]\n",
        "            \n",
        "            print(*singleVerse, sep='')\n",
        "    \n",
        "        print('\\n')\n"
      ]
    },
    {
      "cell_type": "code",
      "execution_count": 4,
      "metadata": {},
      "outputs": [],
      "source": [
        "\n",
        "def ghazal_gen_using_trigrams(poet_name):\n",
        "    UnigramModel = pd.read_csv(f'{poet_name}UnigramFreqDist.csv')\n",
        "    TrigramModel = pd.read_csv (f'{poet_name}TrigramFreqDist.csv')\n",
        "    \n",
        "\n",
        "    unigramList = UnigramModel['0'].tolist()\n",
        "    for stanza in range(4):\n",
        "    \n",
        "        for verse in range(2):\n",
        "            singleVerse = []\n",
        "            singleVerse.append('،')\n",
        "            startingWord = random.choice(unigramList)\n",
        "\n",
        "            for words in range(random.randint(6,7)):\n",
        "                singleVerse.append(startingWord)\n",
        "                singleVerse.append(' ')       \n",
        "                \n",
        "                next_word_list = TrigramModel.loc[TrigramModel['0'].str.startswith(startingWord)]\n",
        "        \n",
        "                next_word = pd.DataFrame(next_word_list['0'].str.split(n=2).str[1])\n",
        "                \n",
        "                startingWord = next_word['0'].iloc[0]\n",
        "            \n",
        "            print(*singleVerse, sep='')\n",
        "        \n",
        "        print('\\n')\n",
        "    \n",
        "\n",
        "    "
      ]
    },
    {
      "cell_type": "code",
      "execution_count": 5,
      "metadata": {},
      "outputs": [],
      "source": [
        "def ghazal_gen_using_bidirectional_model(poet_name):\n",
        "    UnigramModel = pd.read_csv(f'{poet_name}UnigramFreqDist.csv')\n",
        "    ForwardBigram = pd.read_csv(f'{poet_name}BigramFreqDist.csv')\n",
        "    BackwardBigram = pd.read_csv (f'{poet_name}ReverseBigramFreqDist.csv')\n",
        "    BigramModel = pd.read_csv (f'{poet_name}BigramFreqDist.csv')\n",
        "    ReverseBigramModel = pd.read_csv (f'{poet_name}ReverseBigramFreqDist.csv')\n",
        "\n",
        "    unigramList = UnigramModel['0'].tolist()\n",
        "    startingWord = ''\n",
        "    for stanza in range(4):\n",
        "        for verse in range(2):\n",
        "            singleVerse = []\n",
        "            singleVerse.append('،')\n",
        "            startingWord = random.choice(unigramList)\n",
        "\n",
        "            for words in range(random.randint(3,4)):\n",
        "\n",
        "                singleVerse.append(startingWord)\n",
        "                singleVerse.append(' ')   \n",
        "                    \n",
        "                next_word_list_forward = BigramModel.loc[BigramModel['0'].str.startswith(startingWord)]\n",
        "                next_word_forward = pd.DataFrame(next_word_list_forward['0'].str.split(n=1).str[1])    \n",
        "                \n",
        "                startingWord = next_word_forward['0'].iloc[0]\n",
        "                singleVerse.append(startingWord)\n",
        "                singleVerse.append(' ')   \n",
        "\n",
        "                next_word_list_backward = ReverseBigramModel.loc[ReverseBigramModel[\"ReverseBigrams\"].str.startswith(startingWord)]\n",
        "                next_word_backward = pd.DataFrame(next_word_list_backward['ReverseBigrams'].str.split(n=1).str[1])\n",
        "                startingWord = next_word_backward['ReverseBigrams'].iloc[0]\n",
        "            \n",
        "            print(*singleVerse, sep='')\n",
        "    \n",
        "    \n",
        "        print('\\n')\n",
        "\n",
        "    "
      ]
    },
    {
      "cell_type": "code",
      "execution_count": 6,
      "metadata": {},
      "outputs": [
        {
          "name": "stdout",
          "output_type": "stream",
          "text": [
            "List of Poet Names:\n",
            "allahabadi\n",
            "ameer-khusrau\n",
            "bahadur-shah-zafar\n",
            "dagh-dehlvi\n",
            "fahmida-riaz\n",
            "faiz-ahmad-faiz\n",
            "faraz\n",
            "firaq-gorakhpuri\n",
            "gulzar\n",
            "habib-jalib\n",
            "hali\n",
            "iqbal\n",
            "jaan-nisar-akhtar\n",
            "jaun-eliya\n",
            "javed-akhtar\n",
            "jigar-moradabadi\n",
            "kaifi-azmi\n",
            "meer-anees\n",
            "meer-taqi-meer\n",
            "mirza-ghalib\n",
            "mohsin-naqvi\n",
            "naji-shakir\n",
            "naseer-turabi\n",
            "nazm-tabatabai\n",
            "nida-fazli\n",
            "noon-meem-rashid\n",
            "parveen-shakir\n",
            "sahir-ludhianvi\n",
            "wali-mohammad-wali\n",
            "waseem-barelvi\n"
          ]
        }
      ],
      "source": [
        "\n",
        "poet_names = get_poet_names_from_text_file_names()\n",
        "print(\"List of Poet Names:\")\n",
        "for poet in poet_names:\n",
        "    print(poet)\n",
        "    \n"
      ]
    },
    {
      "cell_type": "code",
      "execution_count": 7,
      "metadata": {},
      "outputs": [
        {
          "name": "stdout",
          "output_type": "stream",
          "text": [
            "،ثمر دے میں دھوپ اتری میں دھوپ \n",
            "،مٹتا بھیگی ریت پر کہ تلک \n",
            "\n",
            "\n",
            "،ہواؤں جیسا دل کی شاخ بنی \n",
            "،جیسی وہ مہتاب ہوا مری سوچ خزاں \n",
            "\n",
            "\n"
          ]
        },
        {
          "name": "stdout",
          "output_type": "stream",
          "text": [
            "،رت کی شاخ بنی ترا چہرہ اور \n",
            "،الجھنے کی شاخ بنی ترا چہرہ اور گلاب \n",
            "\n",
            "\n",
            "،بسری ہوئی اک آنکھ کی شاخ بنی \n",
            "،سمجھتی رہیں محسنؔ دل کی شاخ بنی \n",
            "\n",
            "\n"
          ]
        }
      ],
      "source": [
        "\n",
        "ghazal_gen_using_bigrams(\"mohsin-naqvi\")"
      ]
    },
    {
      "cell_type": "code",
      "execution_count": 8,
      "metadata": {},
      "outputs": [
        {
          "name": "stdout",
          "output_type": "stream",
          "text": [
            "،نقصان ہوا مری سوچ خزاں کی \n",
            "،اداس لگا خال و مہتاب ہوا \n",
            "\n",
            "\n",
            "،منہ زور پر کہ تلک یاد کا \n",
            "،سہی پر کہ تلک یاد کا \n",
            "\n",
            "\n",
            "،انہی افکار کے شہر میں دھوپ اتری \n",
            "،سمجھتی رہیں محسنؔ دل کی شاخ بنی \n",
            "\n",
            "\n",
            "،صدیوں کی شاخ بنی ترا چہرہ اور \n",
            "،انا سے یہ مشغلہ اختیار کرنا \n",
            "\n",
            "\n"
          ]
        }
      ],
      "source": [
        "ghazal_gen_using_trigrams(\"mohsin-naqvi\")"
      ]
    },
    {
      "cell_type": "code",
      "execution_count": 11,
      "metadata": {},
      "outputs": [
        {
          "name": "stdout",
          "output_type": "stream",
          "text": [
            "،دم وہ کہ بہار رنگیں بہار \n",
            "،ڈھونڈے سو دیکھا سو دیکھا سو دیکھا سو \n",
            "\n",
            "\n",
            "،کمخواب سو دیکھا سو دیکھا سو دیکھا سو \n",
            "،چھوٹ گلے چھوٹ گلے چھوٹ گلے چھوٹ گلے \n",
            "\n",
            "\n",
            "،میری زندگانی میری زندگانی میری زندگانی \n",
            "،پڑیں روزگار پڑیں روزگار پڑیں روزگار \n",
            "\n",
            "\n",
            "،قائم کیا قائم کیا قائم کیا \n",
            "،آوے نگاہ چھوڑے گا چھوڑے گا چھوڑے گا \n",
            "\n",
            "\n"
          ]
        }
      ],
      "source": [
        "ghazal_gen_using_bidirectional_model(\"naji-shakir\")"
      ]
    },
    {
      "cell_type": "code",
      "execution_count": null,
      "metadata": {},
      "outputs": [],
      "source": []
    },
    {
      "cell_type": "code",
      "execution_count": null,
      "metadata": {},
      "outputs": [],
      "source": []
    }
  ],
  "metadata": {
    "colab": {
      "authorship_tag": "ABX9TyN3nrfeEijPObgidHGllTs5",
      "collapsed_sections": [
        "7NwWnQze_ANO",
        "ZdST5vN98h5Q",
        "rp3V-PQZ8yzB",
        "ve8-HmB9Ej72",
        "Qeos5Dap82Ce",
        "aT3UWQC4hyx4",
        "5HAhEeCAomSI",
        "I19VmvK3ouqN",
        "WhY3Rs6so5Wr",
        "6Wi65G3HpLU7"
      ],
      "include_colab_link": true,
      "name": "i21-2083.ipynb",
      "provenance": []
    },
    "kernelspec": {
      "display_name": "Python 3",
      "name": "python3"
    },
    "language_info": {
      "codemirror_mode": {
        "name": "ipython",
        "version": 3
      },
      "file_extension": ".py",
      "mimetype": "text/x-python",
      "name": "python",
      "nbconvert_exporter": "python",
      "pygments_lexer": "ipython3",
      "version": "3.9.16"
    }
  },
  "nbformat": 4,
  "nbformat_minor": 0
}
